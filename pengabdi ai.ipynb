{
  "cells": [
    {
      "cell_type": "code",
      "source": [
        "from google.colab import drive\n",
        "drive.mount('/content/drive', force_remount=True)"
      ],
      "metadata": {
        "id": "O-0EBTKXhwwd",
        "colab": {
          "base_uri": "https://localhost:8080/"
        },
        "outputId": "0c4cd325-4739-45dd-d7e7-bc908dd1df3e"
      },
      "execution_count": null,
      "outputs": [
        {
          "output_type": "stream",
          "name": "stdout",
          "text": [
            "Mounted at /content/drive\n"
          ]
        }
      ]
    },
    {
      "cell_type": "code",
      "execution_count": null,
      "metadata": {
        "id": "R6fU_xgcM99W"
      },
      "outputs": [],
      "source": [
        "import os\n",
        "import pandas as pd\n",
        "data = []\n",
        "\n",
        "ext = ('.jpeg', 'jpg')\n",
        "\n",
        "thisdir = '/content/drive/MyDrive/zay'\n",
        "\n",
        "for r, d, f in os.walk(thisdir):\n",
        "    for file in f:\n",
        "      # if file.endswith(ext):\n",
        "      data.append((r.split('/')[-1],os.path.join(r,file)))\n",
        "\n",
        "df = pd.DataFrame(data,columns=['folder','file'])"
      ]
    },
    {
      "cell_type": "code",
      "execution_count": null,
      "metadata": {
        "id": "Ajauq13jODHF",
        "colab": {
          "base_uri": "https://localhost:8080/",
          "height": 424
        },
        "outputId": "b6bab281-d811-41ec-c973-f031d8c5eeb7"
      },
      "outputs": [
        {
          "output_type": "execute_result",
          "data": {
            "text/plain": [
              "                folder                                               file\n",
              "0       musangsulawesi  /content/drive/MyDrive/zay/musangsulawesi/0000...\n",
              "1       musangsulawesi  /content/drive/MyDrive/zay/musangsulawesi/0000...\n",
              "2       musangsulawesi  /content/drive/MyDrive/zay/musangsulawesi/0000...\n",
              "3       musangsulawesi  /content/drive/MyDrive/zay/musangsulawesi/0000...\n",
              "4       musangsulawesi  /content/drive/MyDrive/zay/musangsulawesi/0000...\n",
              "...                ...                                                ...\n",
              "2251  babirusasulawesi  /content/drive/MyDrive/zay/babirusasulawesi/00...\n",
              "2252  babirusasulawesi  /content/drive/MyDrive/zay/babirusasulawesi/00...\n",
              "2253  babirusasulawesi  /content/drive/MyDrive/zay/babirusasulawesi/00...\n",
              "2254  babirusasulawesi  /content/drive/MyDrive/zay/babirusasulawesi/00...\n",
              "2255  babirusasulawesi  /content/drive/MyDrive/zay/babirusasulawesi/00...\n",
              "\n",
              "[2256 rows x 2 columns]"
            ],
            "text/html": [
              "\n",
              "  <div id=\"df-985215c9-924c-4c89-be84-9ca7c20645ca\">\n",
              "    <div class=\"colab-df-container\">\n",
              "      <div>\n",
              "<style scoped>\n",
              "    .dataframe tbody tr th:only-of-type {\n",
              "        vertical-align: middle;\n",
              "    }\n",
              "\n",
              "    .dataframe tbody tr th {\n",
              "        vertical-align: top;\n",
              "    }\n",
              "\n",
              "    .dataframe thead th {\n",
              "        text-align: right;\n",
              "    }\n",
              "</style>\n",
              "<table border=\"1\" class=\"dataframe\">\n",
              "  <thead>\n",
              "    <tr style=\"text-align: right;\">\n",
              "      <th></th>\n",
              "      <th>folder</th>\n",
              "      <th>file</th>\n",
              "    </tr>\n",
              "  </thead>\n",
              "  <tbody>\n",
              "    <tr>\n",
              "      <th>0</th>\n",
              "      <td>musangsulawesi</td>\n",
              "      <td>/content/drive/MyDrive/zay/musangsulawesi/0000...</td>\n",
              "    </tr>\n",
              "    <tr>\n",
              "      <th>1</th>\n",
              "      <td>musangsulawesi</td>\n",
              "      <td>/content/drive/MyDrive/zay/musangsulawesi/0000...</td>\n",
              "    </tr>\n",
              "    <tr>\n",
              "      <th>2</th>\n",
              "      <td>musangsulawesi</td>\n",
              "      <td>/content/drive/MyDrive/zay/musangsulawesi/0000...</td>\n",
              "    </tr>\n",
              "    <tr>\n",
              "      <th>3</th>\n",
              "      <td>musangsulawesi</td>\n",
              "      <td>/content/drive/MyDrive/zay/musangsulawesi/0000...</td>\n",
              "    </tr>\n",
              "    <tr>\n",
              "      <th>4</th>\n",
              "      <td>musangsulawesi</td>\n",
              "      <td>/content/drive/MyDrive/zay/musangsulawesi/0000...</td>\n",
              "    </tr>\n",
              "    <tr>\n",
              "      <th>...</th>\n",
              "      <td>...</td>\n",
              "      <td>...</td>\n",
              "    </tr>\n",
              "    <tr>\n",
              "      <th>2251</th>\n",
              "      <td>babirusasulawesi</td>\n",
              "      <td>/content/drive/MyDrive/zay/babirusasulawesi/00...</td>\n",
              "    </tr>\n",
              "    <tr>\n",
              "      <th>2252</th>\n",
              "      <td>babirusasulawesi</td>\n",
              "      <td>/content/drive/MyDrive/zay/babirusasulawesi/00...</td>\n",
              "    </tr>\n",
              "    <tr>\n",
              "      <th>2253</th>\n",
              "      <td>babirusasulawesi</td>\n",
              "      <td>/content/drive/MyDrive/zay/babirusasulawesi/00...</td>\n",
              "    </tr>\n",
              "    <tr>\n",
              "      <th>2254</th>\n",
              "      <td>babirusasulawesi</td>\n",
              "      <td>/content/drive/MyDrive/zay/babirusasulawesi/00...</td>\n",
              "    </tr>\n",
              "    <tr>\n",
              "      <th>2255</th>\n",
              "      <td>babirusasulawesi</td>\n",
              "      <td>/content/drive/MyDrive/zay/babirusasulawesi/00...</td>\n",
              "    </tr>\n",
              "  </tbody>\n",
              "</table>\n",
              "<p>2256 rows × 2 columns</p>\n",
              "</div>\n",
              "      <button class=\"colab-df-convert\" onclick=\"convertToInteractive('df-985215c9-924c-4c89-be84-9ca7c20645ca')\"\n",
              "              title=\"Convert this dataframe to an interactive table.\"\n",
              "              style=\"display:none;\">\n",
              "        \n",
              "  <svg xmlns=\"http://www.w3.org/2000/svg\" height=\"24px\"viewBox=\"0 0 24 24\"\n",
              "       width=\"24px\">\n",
              "    <path d=\"M0 0h24v24H0V0z\" fill=\"none\"/>\n",
              "    <path d=\"M18.56 5.44l.94 2.06.94-2.06 2.06-.94-2.06-.94-.94-2.06-.94 2.06-2.06.94zm-11 1L8.5 8.5l.94-2.06 2.06-.94-2.06-.94L8.5 2.5l-.94 2.06-2.06.94zm10 10l.94 2.06.94-2.06 2.06-.94-2.06-.94-.94-2.06-.94 2.06-2.06.94z\"/><path d=\"M17.41 7.96l-1.37-1.37c-.4-.4-.92-.59-1.43-.59-.52 0-1.04.2-1.43.59L10.3 9.45l-7.72 7.72c-.78.78-.78 2.05 0 2.83L4 21.41c.39.39.9.59 1.41.59.51 0 1.02-.2 1.41-.59l7.78-7.78 2.81-2.81c.8-.78.8-2.07 0-2.86zM5.41 20L4 18.59l7.72-7.72 1.47 1.35L5.41 20z\"/>\n",
              "  </svg>\n",
              "      </button>\n",
              "      \n",
              "  <style>\n",
              "    .colab-df-container {\n",
              "      display:flex;\n",
              "      flex-wrap:wrap;\n",
              "      gap: 12px;\n",
              "    }\n",
              "\n",
              "    .colab-df-convert {\n",
              "      background-color: #E8F0FE;\n",
              "      border: none;\n",
              "      border-radius: 50%;\n",
              "      cursor: pointer;\n",
              "      display: none;\n",
              "      fill: #1967D2;\n",
              "      height: 32px;\n",
              "      padding: 0 0 0 0;\n",
              "      width: 32px;\n",
              "    }\n",
              "\n",
              "    .colab-df-convert:hover {\n",
              "      background-color: #E2EBFA;\n",
              "      box-shadow: 0px 1px 2px rgba(60, 64, 67, 0.3), 0px 1px 3px 1px rgba(60, 64, 67, 0.15);\n",
              "      fill: #174EA6;\n",
              "    }\n",
              "\n",
              "    [theme=dark] .colab-df-convert {\n",
              "      background-color: #3B4455;\n",
              "      fill: #D2E3FC;\n",
              "    }\n",
              "\n",
              "    [theme=dark] .colab-df-convert:hover {\n",
              "      background-color: #434B5C;\n",
              "      box-shadow: 0px 1px 3px 1px rgba(0, 0, 0, 0.15);\n",
              "      filter: drop-shadow(0px 1px 2px rgba(0, 0, 0, 0.3));\n",
              "      fill: #FFFFFF;\n",
              "    }\n",
              "  </style>\n",
              "\n",
              "      <script>\n",
              "        const buttonEl =\n",
              "          document.querySelector('#df-985215c9-924c-4c89-be84-9ca7c20645ca button.colab-df-convert');\n",
              "        buttonEl.style.display =\n",
              "          google.colab.kernel.accessAllowed ? 'block' : 'none';\n",
              "\n",
              "        async function convertToInteractive(key) {\n",
              "          const element = document.querySelector('#df-985215c9-924c-4c89-be84-9ca7c20645ca');\n",
              "          const dataTable =\n",
              "            await google.colab.kernel.invokeFunction('convertToInteractive',\n",
              "                                                     [key], {});\n",
              "          if (!dataTable) return;\n",
              "\n",
              "          const docLinkHtml = 'Like what you see? Visit the ' +\n",
              "            '<a target=\"_blank\" href=https://colab.research.google.com/notebooks/data_table.ipynb>data table notebook</a>'\n",
              "            + ' to learn more about interactive tables.';\n",
              "          element.innerHTML = '';\n",
              "          dataTable['output_type'] = 'display_data';\n",
              "          await google.colab.output.renderOutput(dataTable, element);\n",
              "          const docLink = document.createElement('div');\n",
              "          docLink.innerHTML = docLinkHtml;\n",
              "          element.appendChild(docLink);\n",
              "        }\n",
              "      </script>\n",
              "    </div>\n",
              "  </div>\n",
              "  "
            ]
          },
          "metadata": {},
          "execution_count": 3
        }
      ],
      "source": [
        "df"
      ]
    },
    {
      "cell_type": "code",
      "execution_count": null,
      "metadata": {
        "id": "9P0LohHNOcjo"
      },
      "outputs": [],
      "source": [
        "from tensorflow.keras.preprocessing.image import load_img\n",
        "from tensorflow.keras.utils import img_to_array\n",
        "\n",
        "data_array = []\n",
        "\n",
        "# Hyperparameters\n",
        "HEIGHT = 150 # Image height\n",
        "WIDTH = 150 # Image width\n",
        "CHANNELS = 3 # Image channels\n",
        "\n",
        "for gambar in df['file']:\n",
        "  image = load_img(gambar, target_size=(HEIGHT, WIDTH, CHANNELS))\n",
        "  image = img_to_array(image)\n",
        "  data_array.append(image)"
      ]
    },
    {
      "cell_type": "code",
      "source": [
        "df['data_array'] = data_array"
      ],
      "metadata": {
        "id": "d9a2wAwEfGsr"
      },
      "execution_count": null,
      "outputs": []
    },
    {
      "cell_type": "code",
      "source": [
        "df.head()"
      ],
      "metadata": {
        "colab": {
          "base_uri": "https://localhost:8080/",
          "height": 206
        },
        "id": "GLix0LqBlige",
        "outputId": "676bb85f-d388-4784-b2bd-19c3a48770c0"
      },
      "execution_count": null,
      "outputs": [
        {
          "output_type": "execute_result",
          "data": {
            "text/plain": [
              "           folder                                               file  \\\n",
              "0  musangsulawesi  /content/drive/MyDrive/zay/musangsulawesi/0000...   \n",
              "1  musangsulawesi  /content/drive/MyDrive/zay/musangsulawesi/0000...   \n",
              "2  musangsulawesi  /content/drive/MyDrive/zay/musangsulawesi/0000...   \n",
              "3  musangsulawesi  /content/drive/MyDrive/zay/musangsulawesi/0000...   \n",
              "4  musangsulawesi  /content/drive/MyDrive/zay/musangsulawesi/0000...   \n",
              "\n",
              "                                          data_array  \n",
              "0  [[[89.0, 80.0, 65.0], [146.0, 129.0, 119.0], [...  \n",
              "1  [[[7.0, 7.0, 9.0], [9.0, 8.0, 13.0], [10.0, 11...  \n",
              "2  [[[50.0, 77.0, 32.0], [61.0, 92.0, 35.0], [54....  \n",
              "3  [[[19.0, 29.0, 5.0], [97.0, 107.0, 82.0], [78....  \n",
              "4  [[[204.0, 205.0, 209.0], [199.0, 200.0, 204.0]...  "
            ],
            "text/html": [
              "\n",
              "  <div id=\"df-8a00b773-da0d-4bbf-a3b0-d7263bab0a29\">\n",
              "    <div class=\"colab-df-container\">\n",
              "      <div>\n",
              "<style scoped>\n",
              "    .dataframe tbody tr th:only-of-type {\n",
              "        vertical-align: middle;\n",
              "    }\n",
              "\n",
              "    .dataframe tbody tr th {\n",
              "        vertical-align: top;\n",
              "    }\n",
              "\n",
              "    .dataframe thead th {\n",
              "        text-align: right;\n",
              "    }\n",
              "</style>\n",
              "<table border=\"1\" class=\"dataframe\">\n",
              "  <thead>\n",
              "    <tr style=\"text-align: right;\">\n",
              "      <th></th>\n",
              "      <th>folder</th>\n",
              "      <th>file</th>\n",
              "      <th>data_array</th>\n",
              "    </tr>\n",
              "  </thead>\n",
              "  <tbody>\n",
              "    <tr>\n",
              "      <th>0</th>\n",
              "      <td>musangsulawesi</td>\n",
              "      <td>/content/drive/MyDrive/zay/musangsulawesi/0000...</td>\n",
              "      <td>[[[89.0, 80.0, 65.0], [146.0, 129.0, 119.0], [...</td>\n",
              "    </tr>\n",
              "    <tr>\n",
              "      <th>1</th>\n",
              "      <td>musangsulawesi</td>\n",
              "      <td>/content/drive/MyDrive/zay/musangsulawesi/0000...</td>\n",
              "      <td>[[[7.0, 7.0, 9.0], [9.0, 8.0, 13.0], [10.0, 11...</td>\n",
              "    </tr>\n",
              "    <tr>\n",
              "      <th>2</th>\n",
              "      <td>musangsulawesi</td>\n",
              "      <td>/content/drive/MyDrive/zay/musangsulawesi/0000...</td>\n",
              "      <td>[[[50.0, 77.0, 32.0], [61.0, 92.0, 35.0], [54....</td>\n",
              "    </tr>\n",
              "    <tr>\n",
              "      <th>3</th>\n",
              "      <td>musangsulawesi</td>\n",
              "      <td>/content/drive/MyDrive/zay/musangsulawesi/0000...</td>\n",
              "      <td>[[[19.0, 29.0, 5.0], [97.0, 107.0, 82.0], [78....</td>\n",
              "    </tr>\n",
              "    <tr>\n",
              "      <th>4</th>\n",
              "      <td>musangsulawesi</td>\n",
              "      <td>/content/drive/MyDrive/zay/musangsulawesi/0000...</td>\n",
              "      <td>[[[204.0, 205.0, 209.0], [199.0, 200.0, 204.0]...</td>\n",
              "    </tr>\n",
              "  </tbody>\n",
              "</table>\n",
              "</div>\n",
              "      <button class=\"colab-df-convert\" onclick=\"convertToInteractive('df-8a00b773-da0d-4bbf-a3b0-d7263bab0a29')\"\n",
              "              title=\"Convert this dataframe to an interactive table.\"\n",
              "              style=\"display:none;\">\n",
              "        \n",
              "  <svg xmlns=\"http://www.w3.org/2000/svg\" height=\"24px\"viewBox=\"0 0 24 24\"\n",
              "       width=\"24px\">\n",
              "    <path d=\"M0 0h24v24H0V0z\" fill=\"none\"/>\n",
              "    <path d=\"M18.56 5.44l.94 2.06.94-2.06 2.06-.94-2.06-.94-.94-2.06-.94 2.06-2.06.94zm-11 1L8.5 8.5l.94-2.06 2.06-.94-2.06-.94L8.5 2.5l-.94 2.06-2.06.94zm10 10l.94 2.06.94-2.06 2.06-.94-2.06-.94-.94-2.06-.94 2.06-2.06.94z\"/><path d=\"M17.41 7.96l-1.37-1.37c-.4-.4-.92-.59-1.43-.59-.52 0-1.04.2-1.43.59L10.3 9.45l-7.72 7.72c-.78.78-.78 2.05 0 2.83L4 21.41c.39.39.9.59 1.41.59.51 0 1.02-.2 1.41-.59l7.78-7.78 2.81-2.81c.8-.78.8-2.07 0-2.86zM5.41 20L4 18.59l7.72-7.72 1.47 1.35L5.41 20z\"/>\n",
              "  </svg>\n",
              "      </button>\n",
              "      \n",
              "  <style>\n",
              "    .colab-df-container {\n",
              "      display:flex;\n",
              "      flex-wrap:wrap;\n",
              "      gap: 12px;\n",
              "    }\n",
              "\n",
              "    .colab-df-convert {\n",
              "      background-color: #E8F0FE;\n",
              "      border: none;\n",
              "      border-radius: 50%;\n",
              "      cursor: pointer;\n",
              "      display: none;\n",
              "      fill: #1967D2;\n",
              "      height: 32px;\n",
              "      padding: 0 0 0 0;\n",
              "      width: 32px;\n",
              "    }\n",
              "\n",
              "    .colab-df-convert:hover {\n",
              "      background-color: #E2EBFA;\n",
              "      box-shadow: 0px 1px 2px rgba(60, 64, 67, 0.3), 0px 1px 3px 1px rgba(60, 64, 67, 0.15);\n",
              "      fill: #174EA6;\n",
              "    }\n",
              "\n",
              "    [theme=dark] .colab-df-convert {\n",
              "      background-color: #3B4455;\n",
              "      fill: #D2E3FC;\n",
              "    }\n",
              "\n",
              "    [theme=dark] .colab-df-convert:hover {\n",
              "      background-color: #434B5C;\n",
              "      box-shadow: 0px 1px 3px 1px rgba(0, 0, 0, 0.15);\n",
              "      filter: drop-shadow(0px 1px 2px rgba(0, 0, 0, 0.3));\n",
              "      fill: #FFFFFF;\n",
              "    }\n",
              "  </style>\n",
              "\n",
              "      <script>\n",
              "        const buttonEl =\n",
              "          document.querySelector('#df-8a00b773-da0d-4bbf-a3b0-d7263bab0a29 button.colab-df-convert');\n",
              "        buttonEl.style.display =\n",
              "          google.colab.kernel.accessAllowed ? 'block' : 'none';\n",
              "\n",
              "        async function convertToInteractive(key) {\n",
              "          const element = document.querySelector('#df-8a00b773-da0d-4bbf-a3b0-d7263bab0a29');\n",
              "          const dataTable =\n",
              "            await google.colab.kernel.invokeFunction('convertToInteractive',\n",
              "                                                     [key], {});\n",
              "          if (!dataTable) return;\n",
              "\n",
              "          const docLinkHtml = 'Like what you see? Visit the ' +\n",
              "            '<a target=\"_blank\" href=https://colab.research.google.com/notebooks/data_table.ipynb>data table notebook</a>'\n",
              "            + ' to learn more about interactive tables.';\n",
              "          element.innerHTML = '';\n",
              "          dataTable['output_type'] = 'display_data';\n",
              "          await google.colab.output.renderOutput(dataTable, element);\n",
              "          const docLink = document.createElement('div');\n",
              "          docLink.innerHTML = docLinkHtml;\n",
              "          element.appendChild(docLink);\n",
              "        }\n",
              "      </script>\n",
              "    </div>\n",
              "  </div>\n",
              "  "
            ]
          },
          "metadata": {},
          "execution_count": 6
        }
      ]
    },
    {
      "cell_type": "code",
      "source": [
        "# df.to_csv('Data zai.csv')"
      ],
      "metadata": {
        "id": "RKoQdE1cfMtN"
      },
      "execution_count": null,
      "outputs": []
    },
    {
      "cell_type": "code",
      "source": [
        "# df['folder'].value_counts()"
      ],
      "metadata": {
        "id": "9-4sWJqVZVvn"
      },
      "execution_count": null,
      "outputs": []
    },
    {
      "cell_type": "code",
      "source": [
        "# n = 138\n",
        "# msk = df.groupby('folder')['folder'].transform('size') >= n\n",
        "# df = pd.concat((df[msk].groupby('folder').sample(n=n), df[~msk]), ignore_index=True)"
      ],
      "metadata": {
        "id": "acYOE5jQZZ0S"
      },
      "execution_count": null,
      "outputs": []
    },
    {
      "cell_type": "code",
      "source": [
        "# df['folder'].value_counts()"
      ],
      "metadata": {
        "id": "1BvbQ67XbR6w"
      },
      "execution_count": null,
      "outputs": []
    },
    {
      "cell_type": "code",
      "source": [
        "import numpy as np\n",
        "\n",
        "image_data = np.array(list(df['data_array']))\n",
        "labels = np.array(df['folder'].values)"
      ],
      "metadata": {
        "id": "OE6bmTzOd9Y_"
      },
      "execution_count": null,
      "outputs": []
    },
    {
      "cell_type": "code",
      "source": [
        "image_data.shape"
      ],
      "metadata": {
        "id": "jJfFJlXiTtsB",
        "colab": {
          "base_uri": "https://localhost:8080/"
        },
        "outputId": "1204bd25-21c6-43a4-a596-d93631a3b9ca"
      },
      "execution_count": null,
      "outputs": [
        {
          "output_type": "execute_result",
          "data": {
            "text/plain": [
              "(2256, 150, 150, 3)"
            ]
          },
          "metadata": {},
          "execution_count": 12
        }
      ]
    },
    {
      "cell_type": "code",
      "source": [
        "from sklearn.preprocessing import OneHotEncoder\n",
        "\n",
        "labelencoder_y = OneHotEncoder(sparse=False)\n",
        "labels = labels.reshape(-1,1)\n",
        "labels = labelencoder_y.fit_transform(labels)"
      ],
      "metadata": {
        "id": "HQly0m59gWo4"
      },
      "execution_count": null,
      "outputs": []
    },
    {
      "cell_type": "code",
      "source": [
        "labels"
      ],
      "metadata": {
        "id": "35zonciygvqH",
        "colab": {
          "base_uri": "https://localhost:8080/"
        },
        "outputId": "edbd3abd-7cad-4ecb-8695-b32e1aaab431"
      },
      "execution_count": null,
      "outputs": [
        {
          "output_type": "execute_result",
          "data": {
            "text/plain": [
              "array([[0., 0., 0., ..., 1., 0., 0.],\n",
              "       [0., 0., 0., ..., 1., 0., 0.],\n",
              "       [0., 0., 0., ..., 1., 0., 0.],\n",
              "       ...,\n",
              "       [0., 1., 0., ..., 0., 0., 0.],\n",
              "       [0., 1., 0., ..., 0., 0., 0.],\n",
              "       [0., 1., 0., ..., 0., 0., 0.]])"
            ]
          },
          "metadata": {},
          "execution_count": 14
        }
      ]
    },
    {
      "cell_type": "code",
      "source": [
        "# idx = np.arange(image_data.shape[0])\n",
        "# np.random.shuffle(idx)\n",
        "# image_data = image_data[idx]\n",
        "# labels = labels[idx]"
      ],
      "metadata": {
        "id": "spDGKezNeaoV"
      },
      "execution_count": null,
      "outputs": []
    },
    {
      "cell_type": "code",
      "source": [
        "from sklearn.model_selection import train_test_split\n",
        "x_train, x_test, y_train, y_test = train_test_split(image_data, labels, test_size = 0.2, random_state = 101)"
      ],
      "metadata": {
        "id": "EPoLG-BhefSt"
      },
      "execution_count": null,
      "outputs": []
    },
    {
      "cell_type": "code",
      "source": [
        "print(f'SHAPE OF TRAINING IMAGE DATA : {x_train.shape}')\n",
        "print(f'SHAPE OF TESTING IMAGE DATA : {x_test.shape}')\n",
        "print(f'SHAPE OF TRAINING LABELS : {y_train.shape}')\n",
        "print(f'SHAPE OF TESTING LABELS : {y_test.shape}')"
      ],
      "metadata": {
        "id": "qU0DyU1seuQA",
        "colab": {
          "base_uri": "https://localhost:8080/"
        },
        "outputId": "242a54c5-5397-4136-9f76-7b3462e60347"
      },
      "execution_count": null,
      "outputs": [
        {
          "output_type": "stream",
          "name": "stdout",
          "text": [
            "SHAPE OF TRAINING IMAGE DATA : (1804, 150, 150, 3)\n",
            "SHAPE OF TESTING IMAGE DATA : (452, 150, 150, 3)\n",
            "SHAPE OF TRAINING LABELS : (1804, 10)\n",
            "SHAPE OF TESTING LABELS : (452, 10)\n"
          ]
        }
      ]
    },
    {
      "cell_type": "code",
      "source": [
        "from keras.preprocessing.image import ImageDataGenerator\n",
        "\n",
        "train_datagen = ImageDataGenerator(rescale=1./255,\n",
        "    rotation_range=40,\n",
        "    zoom_range=0.2,\n",
        "    horizontal_flip=True,\n",
        "    vertical_flip=True,\n",
        "    fill_mode='nearest')\n",
        "val_datagen = ImageDataGenerator(rescale = 1/255.)\n",
        "\n",
        "train_generator = train_datagen.flow(x_train, y_train, batch_size = 128, shuffle = True)\n",
        "val_generator = val_datagen.flow(x_test, y_test, batch_size = 128, shuffle = True)"
      ],
      "metadata": {
        "id": "JaWdRoDZpQBK"
      },
      "execution_count": null,
      "outputs": []
    },
    {
      "cell_type": "code",
      "source": [
        "from tensorflow.keras.models import Model\n",
        "from tensorflow.keras.layers import Input, Dropout, Flatten, Dense\n",
        "from tensorflow.keras.applications import VGG16\n",
        "\n",
        "input_layer = Input(shape=(150, 150, 3))\n",
        "hidden_layer_1 = VGG16(include_top=False,\n",
        "    weights='imagenet')(input_layer)\n",
        "hidden_layer_2 = Flatten()(hidden_layer_1)\n",
        "hidden_layer_3 = Dense(256, activation='relu')(hidden_layer_2)\n",
        "hidden_layer_4 = Dropout(0.2)(hidden_layer_3)\n",
        "output_layer = Dense(10, activation='softmax')(hidden_layer_4)\n",
        "\n",
        "model = Model(inputs=input_layer, outputs=output_layer)"
      ],
      "metadata": {
        "id": "Q82B965le5ST"
      },
      "execution_count": null,
      "outputs": []
    },
    {
      "cell_type": "code",
      "source": [
        "# for layer in model.layers:\n",
        "#   layer.trainable = True\n",
        "model.summary()"
      ],
      "metadata": {
        "id": "-59_JFJthHgt",
        "colab": {
          "base_uri": "https://localhost:8080/"
        },
        "outputId": "f2e6a92a-f19a-4b47-ff4f-285ba43e2e3e"
      },
      "execution_count": null,
      "outputs": [
        {
          "output_type": "stream",
          "name": "stdout",
          "text": [
            "Model: \"model\"\n",
            "_________________________________________________________________\n",
            " Layer (type)                Output Shape              Param #   \n",
            "=================================================================\n",
            " input_1 (InputLayer)        [(None, 150, 150, 3)]     0         \n",
            "                                                                 \n",
            " vgg16 (Functional)          (None, None, None, 512)   14714688  \n",
            "                                                                 \n",
            " flatten (Flatten)           (None, 8192)              0         \n",
            "                                                                 \n",
            " dense (Dense)               (None, 256)               2097408   \n",
            "                                                                 \n",
            " dropout (Dropout)           (None, 256)               0         \n",
            "                                                                 \n",
            " dense_1 (Dense)             (None, 10)                2570      \n",
            "                                                                 \n",
            "=================================================================\n",
            "Total params: 16,814,666\n",
            "Trainable params: 16,814,666\n",
            "Non-trainable params: 0\n",
            "_________________________________________________________________\n"
          ]
        }
      ]
    },
    {
      "cell_type": "code",
      "source": [
        "from tensorflow.keras.optimizers import Adam\n",
        "model.compile(loss='categorical_crossentropy', #karena lebih dari 2 kelas, menggunakan categorical_crossentropy\n",
        "              optimizer=Adam(learning_rate=1.0000e-04),\n",
        "              metrics=['accuracy'])"
      ],
      "metadata": {
        "id": "ltvJcYiUhSA6"
      },
      "execution_count": null,
      "outputs": []
    },
    {
      "cell_type": "code",
      "source": [
        "#callbacks\n",
        "from tensorflow.keras.callbacks import Callback\n",
        "class myCallback(Callback):\n",
        "  def on_epoch_end(self, epoch, logs={}):\n",
        "    if(logs.get('accuracy')>0.90 and logs.get('val_accuracy')>0.90):\n",
        "      print(\"\\nAkurasi telah sampai lebih dari 90%!\")\n",
        "      self.model.stop_training = True\n",
        "callbacks = myCallback()"
      ],
      "metadata": {
        "id": "UdHclwjwCkgU"
      },
      "execution_count": null,
      "outputs": []
    },
    {
      "cell_type": "code",
      "source": [
        "model.fit(train_generator, \n",
        "          callbacks=[callbacks],\n",
        "          validation_data=val_generator,\n",
        "          epochs = 150, \n",
        "          batch_size = 64)"
      ],
      "metadata": {
        "id": "iIo66UnjhYgR",
        "colab": {
          "base_uri": "https://localhost:8080/"
        },
        "outputId": "869e5650-cdf6-4732-ea73-c368c021545b"
      },
      "execution_count": null,
      "outputs": [
        {
          "output_type": "stream",
          "name": "stdout",
          "text": [
            "Epoch 1/150\n",
            "15/15 [==============================] - 36s 1s/step - loss: 2.2583 - accuracy: 0.1735 - val_loss: 1.9765 - val_accuracy: 0.2677\n",
            "Epoch 2/150\n",
            "15/15 [==============================] - 14s 915ms/step - loss: 1.9467 - accuracy: 0.2932 - val_loss: 1.7714 - val_accuracy: 0.3606\n",
            "Epoch 3/150\n",
            "15/15 [==============================] - 14s 906ms/step - loss: 1.7128 - accuracy: 0.3747 - val_loss: 1.7022 - val_accuracy: 0.4093\n",
            "Epoch 4/150\n",
            "15/15 [==============================] - 14s 897ms/step - loss: 1.5536 - accuracy: 0.4379 - val_loss: 1.4751 - val_accuracy: 0.4602\n",
            "Epoch 5/150\n",
            "15/15 [==============================] - 13s 859ms/step - loss: 1.3497 - accuracy: 0.5105 - val_loss: 1.2108 - val_accuracy: 0.5752\n",
            "Epoch 6/150\n",
            "15/15 [==============================] - 14s 897ms/step - loss: 1.2778 - accuracy: 0.5399 - val_loss: 1.1961 - val_accuracy: 0.5863\n",
            "Epoch 7/150\n",
            "15/15 [==============================] - 14s 900ms/step - loss: 1.1901 - accuracy: 0.5576 - val_loss: 1.1191 - val_accuracy: 0.6239\n",
            "Epoch 8/150\n",
            "15/15 [==============================] - 14s 901ms/step - loss: 1.0307 - accuracy: 0.6164 - val_loss: 1.0954 - val_accuracy: 0.6350\n",
            "Epoch 9/150\n",
            "15/15 [==============================] - 14s 910ms/step - loss: 0.9543 - accuracy: 0.6425 - val_loss: 1.0076 - val_accuracy: 0.6416\n",
            "Epoch 10/150\n",
            "15/15 [==============================] - 14s 897ms/step - loss: 0.8951 - accuracy: 0.6757 - val_loss: 0.8868 - val_accuracy: 0.6527\n",
            "Epoch 11/150\n",
            "15/15 [==============================] - 14s 896ms/step - loss: 0.8926 - accuracy: 0.6741 - val_loss: 0.9390 - val_accuracy: 0.6549\n",
            "Epoch 12/150\n",
            "15/15 [==============================] - 13s 953ms/step - loss: 0.8506 - accuracy: 0.6790 - val_loss: 0.9532 - val_accuracy: 0.6659\n",
            "Epoch 13/150\n",
            "15/15 [==============================] - 14s 1s/step - loss: 0.8577 - accuracy: 0.6874 - val_loss: 1.1067 - val_accuracy: 0.6394\n",
            "Epoch 14/150\n",
            "15/15 [==============================] - 14s 958ms/step - loss: 0.7384 - accuracy: 0.7173 - val_loss: 0.7813 - val_accuracy: 0.7146\n",
            "Epoch 15/150\n",
            "15/15 [==============================] - 15s 954ms/step - loss: 0.6292 - accuracy: 0.7605 - val_loss: 0.9331 - val_accuracy: 0.6770\n",
            "Epoch 16/150\n",
            "15/15 [==============================] - 14s 901ms/step - loss: 0.6153 - accuracy: 0.7694 - val_loss: 0.8631 - val_accuracy: 0.6881\n",
            "Epoch 17/150\n",
            "15/15 [==============================] - 13s 862ms/step - loss: 0.5749 - accuracy: 0.7871 - val_loss: 0.9290 - val_accuracy: 0.6947\n",
            "Epoch 18/150\n",
            "15/15 [==============================] - 14s 900ms/step - loss: 0.5368 - accuracy: 0.7988 - val_loss: 0.8583 - val_accuracy: 0.7124\n",
            "Epoch 19/150\n",
            "15/15 [==============================] - 14s 904ms/step - loss: 0.5594 - accuracy: 0.7943 - val_loss: 0.8354 - val_accuracy: 0.7212\n",
            "Epoch 20/150\n",
            "15/15 [==============================] - 14s 908ms/step - loss: 0.5484 - accuracy: 0.7971 - val_loss: 0.8615 - val_accuracy: 0.7124\n",
            "Epoch 21/150\n",
            "15/15 [==============================] - 14s 898ms/step - loss: 0.5150 - accuracy: 0.8004 - val_loss: 1.0019 - val_accuracy: 0.6947\n",
            "Epoch 22/150\n",
            "15/15 [==============================] - 14s 898ms/step - loss: 0.4842 - accuracy: 0.8237 - val_loss: 0.8409 - val_accuracy: 0.7212\n",
            "Epoch 23/150\n",
            "15/15 [==============================] - 14s 894ms/step - loss: 0.5987 - accuracy: 0.7772 - val_loss: 0.9255 - val_accuracy: 0.6681\n",
            "Epoch 24/150\n",
            "15/15 [==============================] - 14s 896ms/step - loss: 0.5089 - accuracy: 0.8115 - val_loss: 0.9609 - val_accuracy: 0.6969\n",
            "Epoch 25/150\n",
            "15/15 [==============================] - 14s 898ms/step - loss: 0.4652 - accuracy: 0.8293 - val_loss: 0.8516 - val_accuracy: 0.7257\n",
            "Epoch 26/150\n",
            "15/15 [==============================] - 14s 898ms/step - loss: 0.4149 - accuracy: 0.8431 - val_loss: 0.8915 - val_accuracy: 0.7257\n",
            "Epoch 27/150\n",
            "15/15 [==============================] - 13s 947ms/step - loss: 0.3914 - accuracy: 0.8514 - val_loss: 0.8186 - val_accuracy: 0.7345\n",
            "Epoch 28/150\n",
            "15/15 [==============================] - 14s 897ms/step - loss: 0.3750 - accuracy: 0.8725 - val_loss: 0.7442 - val_accuracy: 0.7588\n",
            "Epoch 29/150\n",
            "15/15 [==============================] - 15s 954ms/step - loss: 0.3287 - accuracy: 0.8758 - val_loss: 0.9428 - val_accuracy: 0.7080\n",
            "Epoch 30/150\n",
            "15/15 [==============================] - 14s 871ms/step - loss: 0.2929 - accuracy: 0.8897 - val_loss: 0.8979 - val_accuracy: 0.7279\n",
            "Epoch 31/150\n",
            "15/15 [==============================] - 14s 900ms/step - loss: 0.3902 - accuracy: 0.8476 - val_loss: 0.9328 - val_accuracy: 0.7323\n",
            "Epoch 32/150\n",
            "15/15 [==============================] - 14s 897ms/step - loss: 0.3605 - accuracy: 0.8670 - val_loss: 0.9068 - val_accuracy: 0.7124\n",
            "Epoch 33/150\n",
            "15/15 [==============================] - 14s 928ms/step - loss: 0.3060 - accuracy: 0.8858 - val_loss: 0.8995 - val_accuracy: 0.7235\n",
            "Epoch 34/150\n",
            "15/15 [==============================] - 14s 906ms/step - loss: 0.3597 - accuracy: 0.8631 - val_loss: 0.8883 - val_accuracy: 0.7389\n",
            "Epoch 35/150\n",
            "15/15 [==============================] - 15s 966ms/step - loss: 0.3352 - accuracy: 0.8747 - val_loss: 0.7846 - val_accuracy: 0.7301\n",
            "Epoch 36/150\n",
            "15/15 [==============================] - 14s 900ms/step - loss: 0.3805 - accuracy: 0.8525 - val_loss: 0.9024 - val_accuracy: 0.7080\n",
            "Epoch 37/150\n",
            "15/15 [==============================] - 14s 898ms/step - loss: 0.3119 - accuracy: 0.8814 - val_loss: 1.0326 - val_accuracy: 0.7168\n",
            "Epoch 38/150\n",
            "15/15 [==============================] - 14s 896ms/step - loss: 0.2526 - accuracy: 0.8991 - val_loss: 0.8180 - val_accuracy: 0.7500\n",
            "Epoch 39/150\n",
            "15/15 [==============================] - 13s 864ms/step - loss: 0.2726 - accuracy: 0.8941 - val_loss: 0.8966 - val_accuracy: 0.7168\n",
            "Epoch 40/150\n",
            "15/15 [==============================] - 14s 902ms/step - loss: 0.4229 - accuracy: 0.8481 - val_loss: 0.8370 - val_accuracy: 0.7389\n",
            "Epoch 41/150\n",
            "15/15 [==============================] - 14s 897ms/step - loss: 0.2846 - accuracy: 0.8830 - val_loss: 0.9487 - val_accuracy: 0.7412\n",
            "Epoch 42/150\n",
            "15/15 [==============================] - 14s 898ms/step - loss: 0.2607 - accuracy: 0.9041 - val_loss: 0.9562 - val_accuracy: 0.7301\n",
            "Epoch 43/150\n",
            "15/15 [==============================] - 14s 898ms/step - loss: 0.3105 - accuracy: 0.8886 - val_loss: 0.8650 - val_accuracy: 0.7257\n",
            "Epoch 44/150\n",
            "15/15 [==============================] - 14s 895ms/step - loss: 0.2649 - accuracy: 0.8952 - val_loss: 0.9361 - val_accuracy: 0.7478\n",
            "Epoch 45/150\n",
            "15/15 [==============================] - 14s 892ms/step - loss: 0.2402 - accuracy: 0.9030 - val_loss: 0.8258 - val_accuracy: 0.7566\n",
            "Epoch 46/150\n",
            "15/15 [==============================] - 14s 897ms/step - loss: 0.1952 - accuracy: 0.9163 - val_loss: 0.9683 - val_accuracy: 0.7146\n",
            "Epoch 47/150\n",
            "15/15 [==============================] - 14s 899ms/step - loss: 0.2031 - accuracy: 0.9218 - val_loss: 0.8954 - val_accuracy: 0.7456\n",
            "Epoch 48/150\n",
            "15/15 [==============================] - 13s 951ms/step - loss: 0.1994 - accuracy: 0.9257 - val_loss: 0.9650 - val_accuracy: 0.7389\n",
            "Epoch 49/150\n",
            "15/15 [==============================] - 15s 957ms/step - loss: 0.2092 - accuracy: 0.9141 - val_loss: 0.9648 - val_accuracy: 0.7279\n",
            "Epoch 50/150\n",
            "15/15 [==============================] - 14s 899ms/step - loss: 0.2257 - accuracy: 0.9058 - val_loss: 1.1064 - val_accuracy: 0.7257\n",
            "Epoch 51/150\n",
            "15/15 [==============================] - 14s 895ms/step - loss: 0.2018 - accuracy: 0.9174 - val_loss: 1.0656 - val_accuracy: 0.7588\n",
            "Epoch 52/150\n",
            "15/15 [==============================] - 13s 950ms/step - loss: 0.2217 - accuracy: 0.9124 - val_loss: 1.1103 - val_accuracy: 0.7168\n",
            "Epoch 53/150\n",
            "15/15 [==============================] - 15s 962ms/step - loss: 0.2688 - accuracy: 0.9013 - val_loss: 0.9456 - val_accuracy: 0.7279\n",
            "Epoch 54/150\n",
            "15/15 [==============================] - 15s 962ms/step - loss: 0.2287 - accuracy: 0.9119 - val_loss: 1.0013 - val_accuracy: 0.7212\n",
            "Epoch 55/150\n",
            "15/15 [==============================] - 14s 912ms/step - loss: 0.2060 - accuracy: 0.9185 - val_loss: 0.9941 - val_accuracy: 0.7345\n",
            "Epoch 56/150\n",
            "15/15 [==============================] - 14s 897ms/step - loss: 0.1882 - accuracy: 0.9174 - val_loss: 1.0246 - val_accuracy: 0.7412\n",
            "Epoch 57/150\n",
            "15/15 [==============================] - 14s 903ms/step - loss: 0.1918 - accuracy: 0.9196 - val_loss: 1.1041 - val_accuracy: 0.7190\n",
            "Epoch 58/150\n",
            "15/15 [==============================] - 13s 865ms/step - loss: 0.2116 - accuracy: 0.9130 - val_loss: 1.0422 - val_accuracy: 0.7235\n",
            "Epoch 59/150\n",
            "15/15 [==============================] - 14s 897ms/step - loss: 0.3343 - accuracy: 0.8780 - val_loss: 1.0672 - val_accuracy: 0.6704\n",
            "Epoch 60/150\n",
            "15/15 [==============================] - 14s 894ms/step - loss: 0.3297 - accuracy: 0.8764 - val_loss: 0.9935 - val_accuracy: 0.7124\n",
            "Epoch 61/150\n",
            "15/15 [==============================] - 14s 893ms/step - loss: 0.2406 - accuracy: 0.9074 - val_loss: 1.0071 - val_accuracy: 0.7058\n",
            "Epoch 62/150\n",
            "15/15 [==============================] - 13s 861ms/step - loss: 0.2204 - accuracy: 0.9141 - val_loss: 1.0790 - val_accuracy: 0.7080\n",
            "Epoch 63/150\n",
            "15/15 [==============================] - 14s 896ms/step - loss: 0.1947 - accuracy: 0.9074 - val_loss: 1.1204 - val_accuracy: 0.7212\n",
            "Epoch 64/150\n",
            "15/15 [==============================] - 14s 896ms/step - loss: 0.1641 - accuracy: 0.9285 - val_loss: 1.1918 - val_accuracy: 0.7212\n",
            "Epoch 65/150\n",
            "15/15 [==============================] - 14s 898ms/step - loss: 0.1859 - accuracy: 0.9207 - val_loss: 1.0401 - val_accuracy: 0.7456\n",
            "Epoch 66/150\n",
            "15/15 [==============================] - 13s 862ms/step - loss: 0.1773 - accuracy: 0.9285 - val_loss: 1.1074 - val_accuracy: 0.7301\n",
            "Epoch 67/150\n",
            "15/15 [==============================] - 14s 887ms/step - loss: 0.2053 - accuracy: 0.9241 - val_loss: 0.9661 - val_accuracy: 0.7168\n",
            "Epoch 68/150\n",
            "15/15 [==============================] - 15s 956ms/step - loss: 0.3100 - accuracy: 0.8825 - val_loss: 0.9230 - val_accuracy: 0.7146\n",
            "Epoch 69/150\n",
            "15/15 [==============================] - 14s 903ms/step - loss: 0.3894 - accuracy: 0.8531 - val_loss: 1.0208 - val_accuracy: 0.6947\n",
            "Epoch 70/150\n",
            "15/15 [==============================] - 14s 902ms/step - loss: 0.2400 - accuracy: 0.9058 - val_loss: 0.9948 - val_accuracy: 0.7367\n",
            "Epoch 71/150\n",
            "15/15 [==============================] - 14s 894ms/step - loss: 0.2220 - accuracy: 0.9102 - val_loss: 1.0290 - val_accuracy: 0.7301\n",
            "Epoch 72/150\n",
            "15/15 [==============================] - 14s 897ms/step - loss: 0.1755 - accuracy: 0.9268 - val_loss: 1.0290 - val_accuracy: 0.7345\n",
            "Epoch 73/150\n",
            "15/15 [==============================] - 15s 949ms/step - loss: 0.1507 - accuracy: 0.9379 - val_loss: 1.1562 - val_accuracy: 0.7367\n",
            "Epoch 74/150\n",
            "15/15 [==============================] - 15s 954ms/step - loss: 0.1410 - accuracy: 0.9429 - val_loss: 1.1625 - val_accuracy: 0.7412\n",
            "Epoch 75/150\n",
            "15/15 [==============================] - 15s 947ms/step - loss: 0.1514 - accuracy: 0.9329 - val_loss: 1.0151 - val_accuracy: 0.7323\n",
            "Epoch 76/150\n",
            "15/15 [==============================] - 14s 893ms/step - loss: 0.1631 - accuracy: 0.9307 - val_loss: 1.0516 - val_accuracy: 0.7168\n",
            "Epoch 77/150\n",
            "15/15 [==============================] - 14s 902ms/step - loss: 0.1641 - accuracy: 0.9302 - val_loss: 1.0999 - val_accuracy: 0.7212\n",
            "Epoch 78/150\n",
            "15/15 [==============================] - 14s 896ms/step - loss: 0.1532 - accuracy: 0.9340 - val_loss: 1.1782 - val_accuracy: 0.7035\n",
            "Epoch 79/150\n",
            "15/15 [==============================] - 13s 867ms/step - loss: 0.1525 - accuracy: 0.9401 - val_loss: 1.0446 - val_accuracy: 0.7389\n",
            "Epoch 80/150\n",
            "15/15 [==============================] - 14s 894ms/step - loss: 0.1425 - accuracy: 0.9379 - val_loss: 1.1846 - val_accuracy: 0.7102\n",
            "Epoch 81/150\n",
            "15/15 [==============================] - 13s 862ms/step - loss: 0.1288 - accuracy: 0.9424 - val_loss: 1.2442 - val_accuracy: 0.7323\n",
            "Epoch 82/150\n",
            "15/15 [==============================] - 14s 893ms/step - loss: 0.1477 - accuracy: 0.9379 - val_loss: 1.1822 - val_accuracy: 0.7323\n",
            "Epoch 83/150\n",
            "15/15 [==============================] - 14s 899ms/step - loss: 0.1276 - accuracy: 0.9435 - val_loss: 1.1981 - val_accuracy: 0.7279\n",
            "Epoch 84/150\n",
            "15/15 [==============================] - 14s 896ms/step - loss: 0.1550 - accuracy: 0.9368 - val_loss: 1.1804 - val_accuracy: 0.7522\n",
            "Epoch 85/150\n",
            "15/15 [==============================] - 14s 900ms/step - loss: 0.1531 - accuracy: 0.9340 - val_loss: 1.1700 - val_accuracy: 0.7412\n",
            "Epoch 86/150\n",
            "15/15 [==============================] - 13s 951ms/step - loss: 0.1300 - accuracy: 0.9451 - val_loss: 1.1801 - val_accuracy: 0.7456\n",
            "Epoch 87/150\n",
            "15/15 [==============================] - 14s 898ms/step - loss: 0.1412 - accuracy: 0.9412 - val_loss: 1.3045 - val_accuracy: 0.7212\n",
            "Epoch 88/150\n",
            "15/15 [==============================] - 15s 964ms/step - loss: 0.1968 - accuracy: 0.9157 - val_loss: 1.1114 - val_accuracy: 0.7080\n",
            "Epoch 89/150\n",
            "15/15 [==============================] - 14s 893ms/step - loss: 0.1814 - accuracy: 0.9279 - val_loss: 1.1274 - val_accuracy: 0.7257\n",
            "Epoch 90/150\n",
            "15/15 [==============================] - 14s 892ms/step - loss: 0.2062 - accuracy: 0.9157 - val_loss: 1.1977 - val_accuracy: 0.7080\n",
            "Epoch 91/150\n",
            "15/15 [==============================] - 14s 899ms/step - loss: 0.1814 - accuracy: 0.9241 - val_loss: 1.1288 - val_accuracy: 0.7367\n",
            "Epoch 92/150\n",
            "15/15 [==============================] - 14s 896ms/step - loss: 0.1547 - accuracy: 0.9252 - val_loss: 1.0196 - val_accuracy: 0.7389\n",
            "Epoch 93/150\n",
            "15/15 [==============================] - 14s 896ms/step - loss: 0.1420 - accuracy: 0.9379 - val_loss: 1.2090 - val_accuracy: 0.7345\n",
            "Epoch 94/150\n",
            "15/15 [==============================] - 15s 967ms/step - loss: 0.1315 - accuracy: 0.9451 - val_loss: 1.2315 - val_accuracy: 0.7478\n",
            "Epoch 95/150\n",
            "15/15 [==============================] - 15s 956ms/step - loss: 0.1200 - accuracy: 0.9457 - val_loss: 1.4068 - val_accuracy: 0.7058\n",
            "Epoch 96/150\n",
            "15/15 [==============================] - 14s 895ms/step - loss: 0.1312 - accuracy: 0.9357 - val_loss: 1.1988 - val_accuracy: 0.7434\n",
            "Epoch 97/150\n",
            "15/15 [==============================] - 14s 903ms/step - loss: 0.1533 - accuracy: 0.9296 - val_loss: 1.1040 - val_accuracy: 0.7168\n",
            "Epoch 98/150\n",
            "15/15 [==============================] - 14s 900ms/step - loss: 0.1308 - accuracy: 0.9374 - val_loss: 1.1224 - val_accuracy: 0.7389\n",
            "Epoch 99/150\n",
            "15/15 [==============================] - 14s 893ms/step - loss: 0.1236 - accuracy: 0.9429 - val_loss: 1.2377 - val_accuracy: 0.7235\n",
            "Epoch 100/150\n",
            "15/15 [==============================] - 14s 897ms/step - loss: 0.1229 - accuracy: 0.9390 - val_loss: 1.1787 - val_accuracy: 0.7434\n",
            "Epoch 101/150\n",
            "15/15 [==============================] - 14s 896ms/step - loss: 0.1063 - accuracy: 0.9484 - val_loss: 1.2276 - val_accuracy: 0.7190\n",
            "Epoch 102/150\n",
            "15/15 [==============================] - 14s 898ms/step - loss: 0.1841 - accuracy: 0.9202 - val_loss: 1.0392 - val_accuracy: 0.7323\n",
            "Epoch 103/150\n",
            "15/15 [==============================] - 14s 893ms/step - loss: 0.3198 - accuracy: 0.8919 - val_loss: 1.0739 - val_accuracy: 0.6969\n",
            "Epoch 104/150\n",
            "15/15 [==============================] - 14s 889ms/step - loss: 0.2741 - accuracy: 0.8902 - val_loss: 1.0543 - val_accuracy: 0.7168\n",
            "Epoch 105/150\n",
            "15/15 [==============================] - 14s 901ms/step - loss: 0.1762 - accuracy: 0.9235 - val_loss: 1.1569 - val_accuracy: 0.7102\n",
            "Epoch 106/150\n",
            "15/15 [==============================] - 15s 960ms/step - loss: 0.1760 - accuracy: 0.9252 - val_loss: 1.2320 - val_accuracy: 0.6792\n",
            "Epoch 107/150\n",
            "15/15 [==============================] - 14s 894ms/step - loss: 0.1784 - accuracy: 0.9235 - val_loss: 1.3338 - val_accuracy: 0.7279\n",
            "Epoch 108/150\n",
            "15/15 [==============================] - 14s 888ms/step - loss: 0.1420 - accuracy: 0.9368 - val_loss: 1.2026 - val_accuracy: 0.7058\n",
            "Epoch 109/150\n",
            "15/15 [==============================] - 14s 901ms/step - loss: 0.1487 - accuracy: 0.9363 - val_loss: 1.2199 - val_accuracy: 0.7257\n",
            "Epoch 110/150\n",
            "15/15 [==============================] - 14s 899ms/step - loss: 0.1434 - accuracy: 0.9440 - val_loss: 1.4002 - val_accuracy: 0.7080\n",
            "Epoch 111/150\n",
            "15/15 [==============================] - 14s 896ms/step - loss: 0.2563 - accuracy: 0.8975 - val_loss: 1.2601 - val_accuracy: 0.6903\n",
            "Epoch 112/150\n",
            "15/15 [==============================] - 14s 892ms/step - loss: 0.1897 - accuracy: 0.9224 - val_loss: 1.1448 - val_accuracy: 0.7301\n",
            "Epoch 113/150\n",
            "15/15 [==============================] - 15s 948ms/step - loss: 0.1998 - accuracy: 0.9174 - val_loss: 1.3498 - val_accuracy: 0.6726\n",
            "Epoch 114/150\n",
            "15/15 [==============================] - 15s 954ms/step - loss: 0.1915 - accuracy: 0.9296 - val_loss: 1.7451 - val_accuracy: 0.6239\n",
            "Epoch 115/150\n",
            "15/15 [==============================] - 15s 960ms/step - loss: 0.2060 - accuracy: 0.9213 - val_loss: 1.0326 - val_accuracy: 0.7522\n",
            "Epoch 116/150\n",
            "15/15 [==============================] - 14s 899ms/step - loss: 0.1820 - accuracy: 0.9252 - val_loss: 1.1853 - val_accuracy: 0.7102\n",
            "Epoch 117/150\n",
            "15/15 [==============================] - 14s 894ms/step - loss: 0.1345 - accuracy: 0.9346 - val_loss: 1.2140 - val_accuracy: 0.7279\n",
            "Epoch 118/150\n",
            "15/15 [==============================] - 14s 895ms/step - loss: 0.1200 - accuracy: 0.9468 - val_loss: 1.2412 - val_accuracy: 0.7301\n",
            "Epoch 119/150\n",
            "15/15 [==============================] - 13s 941ms/step - loss: 0.1394 - accuracy: 0.9318 - val_loss: 1.1406 - val_accuracy: 0.7478\n",
            "Epoch 120/150\n",
            "15/15 [==============================] - 14s 902ms/step - loss: 0.1229 - accuracy: 0.9446 - val_loss: 1.1538 - val_accuracy: 0.7434\n",
            "Epoch 121/150\n",
            "15/15 [==============================] - 13s 951ms/step - loss: 0.1309 - accuracy: 0.9363 - val_loss: 1.1721 - val_accuracy: 0.7367\n",
            "Epoch 122/150\n",
            "15/15 [==============================] - 14s 899ms/step - loss: 0.1028 - accuracy: 0.9496 - val_loss: 1.2574 - val_accuracy: 0.7434\n",
            "Epoch 123/150\n",
            "15/15 [==============================] - 14s 889ms/step - loss: 0.1210 - accuracy: 0.9429 - val_loss: 1.1927 - val_accuracy: 0.7345\n",
            "Epoch 124/150\n",
            "15/15 [==============================] - 14s 910ms/step - loss: 0.1150 - accuracy: 0.9484 - val_loss: 1.1781 - val_accuracy: 0.7389\n",
            "Epoch 125/150\n",
            "15/15 [==============================] - 14s 894ms/step - loss: 0.1138 - accuracy: 0.9518 - val_loss: 1.1981 - val_accuracy: 0.7389\n",
            "Epoch 126/150\n",
            "15/15 [==============================] - 14s 896ms/step - loss: 0.1084 - accuracy: 0.9507 - val_loss: 1.2154 - val_accuracy: 0.7345\n",
            "Epoch 127/150\n",
            "15/15 [==============================] - 14s 896ms/step - loss: 0.1361 - accuracy: 0.9313 - val_loss: 1.3642 - val_accuracy: 0.7146\n",
            "Epoch 128/150\n",
            "15/15 [==============================] - 14s 895ms/step - loss: 0.1240 - accuracy: 0.9440 - val_loss: 1.4702 - val_accuracy: 0.7323\n",
            "Epoch 129/150\n",
            "15/15 [==============================] - 14s 892ms/step - loss: 0.1539 - accuracy: 0.9302 - val_loss: 1.1448 - val_accuracy: 0.7323\n",
            "Epoch 130/150\n",
            "15/15 [==============================] - 13s 860ms/step - loss: 0.1347 - accuracy: 0.9451 - val_loss: 1.4419 - val_accuracy: 0.7434\n",
            "Epoch 131/150\n",
            "15/15 [==============================] - 14s 904ms/step - loss: 0.1553 - accuracy: 0.9274 - val_loss: 1.1462 - val_accuracy: 0.7035\n",
            "Epoch 132/150\n",
            "15/15 [==============================] - 13s 943ms/step - loss: 0.1476 - accuracy: 0.9335 - val_loss: 1.1422 - val_accuracy: 0.7345\n",
            "Epoch 133/150\n",
            "15/15 [==============================] - 15s 967ms/step - loss: 0.1191 - accuracy: 0.9462 - val_loss: 1.2241 - val_accuracy: 0.7434\n",
            "Epoch 134/150\n",
            "15/15 [==============================] - 15s 959ms/step - loss: 0.2952 - accuracy: 0.8847 - val_loss: 1.0379 - val_accuracy: 0.7058\n",
            "Epoch 135/150\n",
            "15/15 [==============================] - 14s 924ms/step - loss: 0.1968 - accuracy: 0.9174 - val_loss: 1.1835 - val_accuracy: 0.7257\n",
            "Epoch 136/150\n",
            "15/15 [==============================] - 13s 863ms/step - loss: 0.1352 - accuracy: 0.9385 - val_loss: 1.2055 - val_accuracy: 0.7279\n",
            "Epoch 137/150\n",
            "15/15 [==============================] - 14s 900ms/step - loss: 0.1290 - accuracy: 0.9412 - val_loss: 1.3606 - val_accuracy: 0.7190\n",
            "Epoch 138/150\n",
            "15/15 [==============================] - 14s 894ms/step - loss: 0.1230 - accuracy: 0.9385 - val_loss: 1.3637 - val_accuracy: 0.7124\n",
            "Epoch 139/150\n",
            "15/15 [==============================] - 14s 894ms/step - loss: 0.1183 - accuracy: 0.9490 - val_loss: 1.2294 - val_accuracy: 0.7102\n",
            "Epoch 140/150\n",
            "15/15 [==============================] - 14s 895ms/step - loss: 0.1209 - accuracy: 0.9424 - val_loss: 1.2528 - val_accuracy: 0.7257\n",
            "Epoch 141/150\n",
            "15/15 [==============================] - 14s 897ms/step - loss: 0.1063 - accuracy: 0.9501 - val_loss: 1.4555 - val_accuracy: 0.7013\n",
            "Epoch 142/150\n",
            "15/15 [==============================] - 14s 902ms/step - loss: 0.1309 - accuracy: 0.9407 - val_loss: 1.2200 - val_accuracy: 0.7367\n",
            "Epoch 143/150\n",
            "15/15 [==============================] - 14s 903ms/step - loss: 0.1141 - accuracy: 0.9496 - val_loss: 1.1612 - val_accuracy: 0.7235\n",
            "Epoch 144/150\n",
            "15/15 [==============================] - 15s 916ms/step - loss: 0.1088 - accuracy: 0.9507 - val_loss: 1.2938 - val_accuracy: 0.7212\n",
            "Epoch 145/150\n",
            "15/15 [==============================] - 14s 895ms/step - loss: 0.1396 - accuracy: 0.9363 - val_loss: 1.2900 - val_accuracy: 0.7124\n",
            "Epoch 146/150\n",
            "15/15 [==============================] - 14s 892ms/step - loss: 0.1286 - accuracy: 0.9407 - val_loss: 1.3247 - val_accuracy: 0.7235\n",
            "Epoch 147/150\n",
            "15/15 [==============================] - 14s 889ms/step - loss: 0.1149 - accuracy: 0.9496 - val_loss: 1.2495 - val_accuracy: 0.7522\n",
            "Epoch 148/150\n",
            "15/15 [==============================] - 14s 870ms/step - loss: 0.1200 - accuracy: 0.9451 - val_loss: 1.3225 - val_accuracy: 0.7124\n",
            "Epoch 149/150\n",
            "15/15 [==============================] - 14s 900ms/step - loss: 0.1244 - accuracy: 0.9379 - val_loss: 1.3300 - val_accuracy: 0.7257\n",
            "Epoch 150/150\n",
            "15/15 [==============================] - 13s 945ms/step - loss: 0.1108 - accuracy: 0.9457 - val_loss: 1.3696 - val_accuracy: 0.7146\n"
          ]
        },
        {
          "output_type": "execute_result",
          "data": {
            "text/plain": [
              "<keras.callbacks.History at 0x7f5986b77a60>"
            ]
          },
          "metadata": {},
          "execution_count": 23
        }
      ]
    },
    {
      "cell_type": "code",
      "source": [
        "model.save('my_model.h5')"
      ],
      "metadata": {
        "id": "neZaolF0rEXM"
      },
      "execution_count": null,
      "outputs": []
    },
    {
      "cell_type": "code",
      "source": [
        "model.save_weights('/content/drive/MyDrive/zay_backup/my_model_weight.h5')"
      ],
      "metadata": {
        "id": "B8eKXJVbwoBf"
      },
      "execution_count": null,
      "outputs": []
    },
    {
      "cell_type": "code",
      "source": [
        "model.metrics_names"
      ],
      "metadata": {
        "colab": {
          "base_uri": "https://localhost:8080/"
        },
        "id": "Vhaml7TyytWz",
        "outputId": "57e7fc95-6818-4e71-aaea-d51790074dd7"
      },
      "execution_count": null,
      "outputs": [
        {
          "output_type": "execute_result",
          "data": {
            "text/plain": [
              "['loss', 'accuracy']"
            ]
          },
          "metadata": {},
          "execution_count": 36
        }
      ]
    },
    {
      "cell_type": "code",
      "source": [
        "import matplotlib.pyplot as plt\n",
        "\n",
        "#plot accuracy\n",
        "plt.plot(model.history.history['accuracy'], label='Training Accuracy')\n",
        "plt.plot(model.history.history['val_accuracy'], label='Validation Accuracy')\n",
        "plt.title('Model accuracy')\n",
        "plt.ylabel('Accuracy')\n",
        "plt.xlabel('Epochs')\n",
        "plt.legend(['Train', 'Validation'], loc='lower right')\n",
        "plt.show()"
      ],
      "metadata": {
        "colab": {
          "base_uri": "https://localhost:8080/",
          "height": 235
        },
        "id": "LSsT-PnIyY1a",
        "outputId": "6a04a29d-667a-4689-8451-6848d23b027c"
      },
      "execution_count": null,
      "outputs": [
        {
          "output_type": "error",
          "ename": "KeyError",
          "evalue": "ignored",
          "traceback": [
            "\u001b[0;31m---------------------------------------------------------------------------\u001b[0m",
            "\u001b[0;31mKeyError\u001b[0m                                  Traceback (most recent call last)",
            "\u001b[0;32m<ipython-input-44-09ef28f62fd7>\u001b[0m in \u001b[0;36m<module>\u001b[0;34m\u001b[0m\n\u001b[1;32m      2\u001b[0m \u001b[0;34m\u001b[0m\u001b[0m\n\u001b[1;32m      3\u001b[0m \u001b[0;31m#plot accuracy\u001b[0m\u001b[0;34m\u001b[0m\u001b[0;34m\u001b[0m\u001b[0;34m\u001b[0m\u001b[0m\n\u001b[0;32m----> 4\u001b[0;31m \u001b[0mplt\u001b[0m\u001b[0;34m.\u001b[0m\u001b[0mplot\u001b[0m\u001b[0;34m(\u001b[0m\u001b[0mmodel\u001b[0m\u001b[0;34m.\u001b[0m\u001b[0mhistory\u001b[0m\u001b[0;34m.\u001b[0m\u001b[0mhistory\u001b[0m\u001b[0;34m[\u001b[0m\u001b[0;34m'acc'\u001b[0m\u001b[0;34m]\u001b[0m\u001b[0;34m,\u001b[0m \u001b[0mlabel\u001b[0m\u001b[0;34m=\u001b[0m\u001b[0;34m'Training Accuracy'\u001b[0m\u001b[0;34m)\u001b[0m\u001b[0;34m\u001b[0m\u001b[0;34m\u001b[0m\u001b[0m\n\u001b[0m\u001b[1;32m      5\u001b[0m \u001b[0mplt\u001b[0m\u001b[0;34m.\u001b[0m\u001b[0mplot\u001b[0m\u001b[0;34m(\u001b[0m\u001b[0mmodel\u001b[0m\u001b[0;34m.\u001b[0m\u001b[0mhistory\u001b[0m\u001b[0;34m.\u001b[0m\u001b[0mhistory\u001b[0m\u001b[0;34m[\u001b[0m\u001b[0;34m'val_accuracy'\u001b[0m\u001b[0;34m]\u001b[0m\u001b[0;34m,\u001b[0m \u001b[0mlabel\u001b[0m\u001b[0;34m=\u001b[0m\u001b[0;34m'Validation Accuracy'\u001b[0m\u001b[0;34m)\u001b[0m\u001b[0;34m\u001b[0m\u001b[0;34m\u001b[0m\u001b[0m\n\u001b[1;32m      6\u001b[0m \u001b[0mplt\u001b[0m\u001b[0;34m.\u001b[0m\u001b[0mtitle\u001b[0m\u001b[0;34m(\u001b[0m\u001b[0;34m'Model accuracy'\u001b[0m\u001b[0;34m)\u001b[0m\u001b[0;34m\u001b[0m\u001b[0;34m\u001b[0m\u001b[0m\n",
            "\u001b[0;31mKeyError\u001b[0m: 'acc'"
          ]
        }
      ]
    },
    {
      "cell_type": "code",
      "source": [
        "score = model.evaluate(val_generator, verbose=0)\n",
        "print(score[1]*100)"
      ],
      "metadata": {
        "colab": {
          "base_uri": "https://localhost:8080/"
        },
        "id": "PnMh4BXMxtCZ",
        "outputId": "298de021-fba2-4836-9535-cd7371e842ae"
      },
      "execution_count": null,
      "outputs": [
        {
          "output_type": "stream",
          "name": "stdout",
          "text": [
            "71.46017551422119\n"
          ]
        }
      ]
    },
    {
      "cell_type": "code",
      "source": [
        "import pickle\n",
        "\n",
        "filehandler = open(\"/content/drive/MyDrive/zay_backup/le.pkl\",\"wb\")\n",
        "pickle.dump(labelencoder_y,filehandler)\n",
        "filehandler.close()"
      ],
      "metadata": {
        "id": "EdjAGHJ9z5HA"
      },
      "execution_count": null,
      "outputs": []
    },
    {
      "cell_type": "markdown",
      "source": [
        "Pengujian"
      ],
      "metadata": {
        "id": "OkiGqDje1FHy"
      }
    },
    {
      "cell_type": "code",
      "source": [
        "path = '/content/Babirusa.jpg'\n",
        "\n",
        "def process_gambar(image):\n",
        "  arr = []\n",
        "  image = load_img(image, target_size=(150, 150, 3))\n",
        "  image = img_to_array(image)\n",
        "  arr.append(image)\n",
        "  return arr\n",
        "\n",
        "data_prediksi = process_gambar(path)"
      ],
      "metadata": {
        "id": "HUI_h-iN0c80"
      },
      "execution_count": null,
      "outputs": []
    },
    {
      "cell_type": "code",
      "source": [
        "data_prediksi = np.array(data_prediksi)\n",
        "prediksi_gambar = model.predict(data_prediksi)"
      ],
      "metadata": {
        "colab": {
          "base_uri": "https://localhost:8080/"
        },
        "id": "SoCMS9sE1cjz",
        "outputId": "81755f52-9b52-4932-f22e-4ce30b2cd5dd"
      },
      "execution_count": null,
      "outputs": [
        {
          "output_type": "stream",
          "name": "stdout",
          "text": [
            "1/1 [==============================] - 0s 16ms/step\n"
          ]
        }
      ]
    },
    {
      "cell_type": "code",
      "source": [
        "print(labelencoder_y.inverse_transform(prediksi_gambar))"
      ],
      "metadata": {
        "colab": {
          "base_uri": "https://localhost:8080/"
        },
        "id": "-SRWvt6y1sp6",
        "outputId": "8fa69e0e-02b4-4413-c42a-f1528efa49bb"
      },
      "execution_count": null,
      "outputs": [
        {
          "output_type": "stream",
          "name": "stdout",
          "text": [
            "[['babirusasulawesi']]\n"
          ]
        }
      ]
    }
  ],
  "metadata": {
    "colab": {
      "provenance": []
    },
    "kernelspec": {
      "display_name": "Python 3",
      "name": "python3"
    },
    "language_info": {
      "name": "python"
    },
    "accelerator": "GPU",
    "gpuClass": "standard"
  },
  "nbformat": 4,
  "nbformat_minor": 0
}